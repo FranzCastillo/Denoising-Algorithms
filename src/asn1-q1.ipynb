{
 "cells": [
  {
   "cell_type": "markdown",
   "id": "d83bea8b-fece-4382-9d99-16e27a979fd3",
   "metadata": {},
   "source": [
    "# Question 1\n",
    "\n",
    "In this question we will\n",
    "- Practice reading image filenames from a .csv file for processing.\n",
    "- Compare the PSNR and SSIM of different denoising methods applied to a dataset at different noise levels.\n",
    "\n",
    "\n"
   ]
  },
  {
   "cell_type": "code",
   "id": "db84ec26-0700-4e44-b02f-212980e868da",
   "metadata": {
    "ExecuteTime": {
     "end_time": "2024-09-30T03:48:02.350558Z",
     "start_time": "2024-09-30T03:48:02.345273Z"
    }
   },
   "source": [
    "# Boilerplate imports\n",
    "import skimage.io as skio\n",
    "import skimage.color as skcolor\n",
    "import skimage.util as skutil\n",
    "import skimage.restoration as skrest\n",
    "import skimage.filters as skfilt\n",
    "import skimage.metrics as skmetrics\n",
    "import os\n",
    "import numpy as np\n",
    "import matplotlib.pyplot as plt\n",
    "import pandas as pd"
   ],
   "outputs": [],
   "execution_count": 15
  },
  {
   "cell_type": "markdown",
   "id": "9acf0e07-94ea-4b0e-8b84-03a5dc8fceb2",
   "metadata": {},
   "source": [
    "# Step 1: Read the image filenames from the .csv file.  \n",
    "\n",
    "For this you should add `import pandas as pd` to the list of boilerplate imports, above.  Then use the pd.read_csv() function and give the path to the images.csv file as an argument, and also give the optional argument `headers=None` because the given .csv file does not have column title headers.  This will return a Pandas dataframe with one column containing the filenames.  We could iterate over the dataframe, but in order to not have to get too deep into the use of Pandas dataframes, we can convert the single column dataframe to a Python list easily.  If the dataframe is referred to by a variable called `files`, we can convert the first column to a list using:  `files[0].tolist()`.  This will return a list of strings, one for each filename that we can now easily iterate over using a for-loop.\n"
   ]
  },
  {
   "cell_type": "code",
   "id": "4f1c6d87-ab4b-47fe-98b5-a5e0fab0e895",
   "metadata": {
    "ExecuteTime": {
     "end_time": "2024-09-30T03:48:02.388708Z",
     "start_time": "2024-09-30T03:48:02.378292Z"
    }
   },
   "source": [
    "# Write the code for this step here\n",
    "files = pd.read_csv('data/images.csv', header=None)\n",
    "files = files[0].tolist()\n",
    "files"
   ],
   "outputs": [
    {
     "data": {
      "text/plain": [
       "['100075.png',\n",
       " '100080.png',\n",
       " '100098.png',\n",
       " '103041.png',\n",
       " '104022.png',\n",
       " '105019.png',\n",
       " '105053.png',\n",
       " '106020.png',\n",
       " '106025.png',\n",
       " '108041.png',\n",
       " '108073.png',\n",
       " '109034.png',\n",
       " '112082.png',\n",
       " '113009.png',\n",
       " '113016.png',\n",
       " '113044.png',\n",
       " '117054.png',\n",
       " '118020.png',\n",
       " '118035.png',\n",
       " '12003.png',\n",
       " '12074.png',\n",
       " '122048.png',\n",
       " '124084.png',\n",
       " '126039.png',\n",
       " '130034.png',\n",
       " '134008.png',\n",
       " '134052.png',\n",
       " '135037.png',\n",
       " '135069.png',\n",
       " '138032.png',\n",
       " '138078.png',\n",
       " '140055.png',\n",
       " '140075.png',\n",
       " '144067.png',\n",
       " '145014.png',\n",
       " '145053.png',\n",
       " '147021.png',\n",
       " '147062.png',\n",
       " '15004.png',\n",
       " '15088.png',\n",
       " '151087.png',\n",
       " '153077.png',\n",
       " '153093.png',\n",
       " '155060.png',\n",
       " '156079.png',\n",
       " '157036.png',\n",
       " '159029.png',\n",
       " '159045.png',\n",
       " '159091.png',\n",
       " '16052.png',\n",
       " '161062.png',\n",
       " '163014.png',\n",
       " '163062.png',\n",
       " '164074.png',\n",
       " '166081.png',\n",
       " '169012.png',\n",
       " '170054.png',\n",
       " '172032.png',\n",
       " '173036.png',\n",
       " '176019.png',\n",
       " '176035.png',\n",
       " '176039.png',\n",
       " '178054.png',\n",
       " '181018.png',\n",
       " '181079.png',\n",
       " '181091.png',\n",
       " '183055.png',\n",
       " '183087.png',\n",
       " '187003.png',\n",
       " '187029.png',\n",
       " '187039.png',\n",
       " '187071.png',\n",
       " '187083.png',\n",
       " '188005.png',\n",
       " '188063.png',\n",
       " '188091.png',\n",
       " '189003.png',\n",
       " '189011.png',\n",
       " '196015.png',\n",
       " '198004.png',\n",
       " '198023.png',\n",
       " '198054.png',\n",
       " '20008.png',\n",
       " '202012.png',\n",
       " '207056.png',\n",
       " '209070.png',\n",
       " '2092.png',\n",
       " '216041.png',\n",
       " '216053.png',\n",
       " '216066.png',\n",
       " '22013.png',\n",
       " '22090.png',\n",
       " '22093.png',\n",
       " '225017.png',\n",
       " '227040.png',\n",
       " '227046.png',\n",
       " '23025.png',\n",
       " '23080.png',\n",
       " '23084.png',\n",
       " '231015.png',\n",
       " '232038.png',\n",
       " '236017.png',\n",
       " '238011.png',\n",
       " '239007.png',\n",
       " '239096.png',\n",
       " '24004.png',\n",
       " '24063.png',\n",
       " '242078.png',\n",
       " '245051.png',\n",
       " '246016.png',\n",
       " '246053.png',\n",
       " '247085.png',\n",
       " '249061.png',\n",
       " '249087.png',\n",
       " '25098.png',\n",
       " '253036.png',\n",
       " '254033.png',\n",
       " '254054.png',\n",
       " '260081.png',\n",
       " '26031.png',\n",
       " '268002.png',\n",
       " '27059.png',\n",
       " '271008.png',\n",
       " '271031.png',\n",
       " '274007.png',\n",
       " '277095.png',\n",
       " '28075.png',\n",
       " '28096.png',\n",
       " '285036.png',\n",
       " '286092.png',\n",
       " '292066.png',\n",
       " '293029.png',\n",
       " '299091.png',\n",
       " '301007.png',\n",
       " '302003.png',\n",
       " '309004.png',\n",
       " '310007.png',\n",
       " '311068.png',\n",
       " '311081.png',\n",
       " '314016.png',\n",
       " '317080.png',\n",
       " '323016.png',\n",
       " '326038.png',\n",
       " '33066.png',\n",
       " '35008.png',\n",
       " '35010.png',\n",
       " '35058.png',\n",
       " '35070.png',\n",
       " '35091.png',\n",
       " '353013.png',\n",
       " '361084.png',\n",
       " '365025.png',\n",
       " '365073.png',\n",
       " '368016.png',\n",
       " '368078.png',\n",
       " '370036.png',\n",
       " '372047.png',\n",
       " '374020.png',\n",
       " '374067.png',\n",
       " '376001.png',\n",
       " '376020.png',\n",
       " '385028.png',\n",
       " '388016.png',\n",
       " '41004.png',\n",
       " '41025.png',\n",
       " '42044.png',\n",
       " '42078.png',\n",
       " '43070.png',\n",
       " '43083.png',\n",
       " '45077.png',\n",
       " '46076.png',\n",
       " '48055.png',\n",
       " '54005.png',\n",
       " '55067.png',\n",
       " '55075.png',\n",
       " '56028.png',\n",
       " '59078.png',\n",
       " '60079.png',\n",
       " '61060.png',\n",
       " '61086.png',\n",
       " '65010.png',\n",
       " '65019.png',\n",
       " '65074.png',\n",
       " '65132.png',\n",
       " '66039.png',\n",
       " '66075.png',\n",
       " '67079.png',\n",
       " '68077.png',\n",
       " '71046.png',\n",
       " '76002.png',\n",
       " '78019.png',\n",
       " '80099.png',\n",
       " '8049.png',\n",
       " '8143.png',\n",
       " '87065.png',\n",
       " '90076.png',\n",
       " '92059.png',\n",
       " '94079.png',\n",
       " '95006.png',\n",
       " '97017.png']"
      ]
     },
     "execution_count": 16,
     "metadata": {},
     "output_type": "execute_result"
    }
   ],
   "execution_count": 16
  },
  {
   "cell_type": "markdown",
   "id": "5522e2b8-529c-4f8e-9a41-fdd3de0e57c6",
   "metadata": {},
   "source": [
    "# Step 2: Process the images\n",
    "\n",
    "## Instructions\n",
    "\n",
    "- For each filename in `file_list` defined in the prevous block (for testing purposes you can use a small number of the images, say the first 3-5 filenames):\n",
    "    - read in the noiseless version of that image from the images/noiseless directory.  Convert it to grayscale (since these are RGB colour images) and convert it to a dtype float64 numpy array using `skutil.img_as_float()`.\n",
    "    - use the `skutil.random_noise()` function to corrupt the noiseless image with Gaussian noise with standard deviation sigma for each of the sigma values given in the array `sigmas`, defined below.  Keep in mind that the values in `sigmas` are standard deviations, and the `random_noise()` function expects *variance*, so you will need to square the sigma values when you pass them to `random_noise()`.\n",
    "    - Denoise each of the 5 noisy versions of the image with Gaussian filtering (`skfilt.gaussian()`), total variation minimization (TVM) (`skrest.denoise_tv_bregman()`), and non-local means filtering (NLM) (`skrest.denoise_nl_means()`).  For Gaussian filtering, use a 7x7 filter.  For TVM and NLM just pass in the image and use the *default* parameters.\n",
    "    - For each denoised image, compute and store the PSNR and SSIM resulting from denoising with each method by comparing each denoised image to the noiseless image.  Do this in such a way that is easy to compute the averages described below.\n",
    "      \n",
    "- Compute the average PSNR and SSIM for each denoising method and noise level.   We recommend that the results of this computation be stored in the form of six different arrays or lists, one for each combination of denoising method and metric.\n",
    "- See functions `skmetrics.peak_signal_noise_ratio()` and `skmetrics.structural_similarity()` to compute PSNR and SSIM.\n",
    "\n",
    "For testing use only the first three to five filenames in `file_list` so that you can perform testing quickly.  Once you have completed and thoroughly tested your code, run it on the entire list of filenames.  This will take several minutes.  \n"
   ]
  },
  {
   "metadata": {
    "ExecuteTime": {
     "end_time": "2024-09-30T03:48:02.398119Z",
     "start_time": "2024-09-30T03:48:02.390715Z"
    }
   },
   "cell_type": "code",
   "source": [
    "# Define the set of different noise levels.  Remember these are STANDARD DEVIATIONS, not VARIANCE. The squares of these values are variance.\n",
    "sigmas = [0.01, 0.02, 0.05, 0.1, 0.2]\n",
    "\n",
    "methods = ['gaussian', 'tvm', 'nlm']"
   ],
   "id": "64985b07d1b636ef",
   "outputs": [],
   "execution_count": 17
  },
  {
   "metadata": {
    "ExecuteTime": {
     "end_time": "2024-09-30T03:56:13.606034Z",
     "start_time": "2024-09-30T03:56:13.599035Z"
    }
   },
   "cell_type": "code",
   "source": [
    "psnr = {method: {sigma: [] for sigma in sigmas} for method in methods}\n",
    "ssim = {method: {sigma: [] for sigma in sigmas} for method in methods}\n",
    "psnr, ssim"
   ],
   "id": "dfd2be243499ab00",
   "outputs": [
    {
     "data": {
      "text/plain": [
       "({'gaussian': {0.01: [], 0.02: [], 0.05: [], 0.1: [], 0.2: []},\n",
       "  'tvm': {0.01: [], 0.02: [], 0.05: [], 0.1: [], 0.2: []},\n",
       "  'nlm': {0.01: [], 0.02: [], 0.05: [], 0.1: [], 0.2: []}},\n",
       " {'gaussian': {0.01: [], 0.02: [], 0.05: [], 0.1: [], 0.2: []},\n",
       "  'tvm': {0.01: [], 0.02: [], 0.05: [], 0.1: [], 0.2: []},\n",
       "  'nlm': {0.01: [], 0.02: [], 0.05: [], 0.1: [], 0.2: []}})"
      ]
     },
     "execution_count": 35,
     "metadata": {},
     "output_type": "execute_result"
    }
   ],
   "execution_count": 35
  },
  {
   "cell_type": "code",
   "id": "079bf95c-d7ed-48b8-ac6a-0f2a4a1bda83",
   "metadata": {
    "ExecuteTime": {
     "end_time": "2024-09-30T03:48:32.658636Z",
     "start_time": "2024-09-30T03:48:15.485482Z"
    }
   },
   "source": [
    "# Write the code for the rest of this step here.\n",
    "for file in files:\n",
    "    img = skio.imread(f'data/images/noiseless/{file}')  # Read the image\n",
    "    img = skcolor.rgb2gray(img)  # Convert to grayscale\n",
    "    img = skutil.img_as_float(img)  # Convert to float64\n",
    "    \n",
    "    noisy_imgs = [skutil.random_noise(img, mode='gaussian', var=sigma**2) for sigma in sigmas]\n",
    "    \n",
    "    for i, sigma in enumerate(sigmas):\n",
    "        for method in methods:\n",
    "            if method == 'gaussian':\n",
    "                denoised = skfilt.gaussian(noisy_imgs[i], sigma=7/6)\n",
    "            elif method == 'tvm':\n",
    "                denoised = skrest.denoise_tv_bregman(noisy_imgs[i])\n",
    "            elif method == 'nlm':\n",
    "                denoised = skrest.denoise_nl_means(noisy_imgs[i])\n",
    "            else:\n",
    "                raise ValueError('Invalid method')  # To avoid the annoying warning\n",
    "            \n",
    "            psnr[method][sigma].append(skmetrics.peak_signal_noise_ratio(img, denoised))\n",
    "            ssim[method][sigma].append(skmetrics.structural_similarity(img, denoised, data_range=1))\n",
    "            "
   ],
   "outputs": [],
   "execution_count": 20
  },
  {
   "metadata": {
    "ExecuteTime": {
     "end_time": "2024-09-30T03:48:32.665399Z",
     "start_time": "2024-09-30T03:48:32.659642Z"
    }
   },
   "cell_type": "code",
   "source": [
    "psnr_avg = {method: [np.mean(psnr[method][sigma]) for sigma in sigmas] for method in methods} \n",
    "ssim_avg = {method: [np.mean(ssim[method][sigma]) for sigma in sigmas] for method in methods} "
   ],
   "id": "e10d718dbb208de5",
   "outputs": [],
   "execution_count": 21
  },
  {
   "cell_type": "markdown",
   "id": "df8189ad-e8b3-4211-be57-e93e84601b5a",
   "metadata": {},
   "source": [
    "# Step 3: Plot the PSNR and SSIM for each noise level and denoising method.\n",
    "\n",
    "## Instructions\n",
    "\n",
    "- Generate a 2 x 6 group of subplots, each of which contains a bar graph.  The first row of three graphs should show the mean PSNR for each of the five noise levels for Gaussian filtering, TVM filtering and NLM filtering.  Sample output is given in the assignment PDF.  Your plots, subplot titles, axis labels, and tick labels should match the sample output.\n",
    "- Make sure that the range of the y-axis is the same for all PSNR plots and the same for all SSIM plots.\n"
   ]
  },
  {
   "metadata": {
    "ExecuteTime": {
     "end_time": "2024-09-30T03:57:39.640675Z",
     "start_time": "2024-09-30T03:57:38.806032Z"
    }
   },
   "cell_type": "code",
   "source": [
    "# Create the subplots\n",
    "_, axs = plt.subplots(2, 3, figsize=(15, 10))\n",
    "\n",
    "for i, method in enumerate(methods):\n",
    "    axs[0, i].bar(range(len(sigmas)), psnr_avg[method])\n",
    "    axs[0, i].set_title(f'{method.upper()}-filtered PSNR')\n",
    "    axs[0, i].set_xlabel('Gaussian Noise Level')\n",
    "    axs[0, i].set_xticks(range(len(sigmas)))\n",
    "    axs[0, i].set_xticklabels([str(sigma) for sigma in sigmas])\n",
    "    axs[0, i].set_ylim(0, 40)\n",
    "\n",
    "    axs[1, i].bar(range(len(sigmas)), ssim_avg[method])\n",
    "    axs[1, i].set_title(f'{method.upper()}-filtered SSIM')\n",
    "    axs[1, i].set_xlabel('Gaussian Noise Level')\n",
    "    axs[1, i].set_xticks(range(len(sigmas)))\n",
    "    axs[1, i].set_xticklabels([str(sigma) for sigma in sigmas])\n",
    "    axs[1, i].set_ylim(0, 1)\n",
    "\n",
    "plt.tight_layout()\n",
    "plt.show()"
   ],
   "id": "b4186f16-85b8-46d9-80f0-52c0eca08b83",
   "outputs": [
    {
     "data": {
      "text/plain": [
       "<Figure size 1500x1000 with 6 Axes>"
      ],
      "image/png": "[encoded data removed]"
     },
     "metadata": {},
     "output_type": "display_data"
    }
   ],
   "execution_count": 36
  },
  {
   "cell_type": "markdown",
   "id": "e24c1da1-6e87-4ffc-b587-ed3c1b0a0370",
   "metadata": {},
   "source": [
    "# Step 4: Reflection\n",
    "\n",
    "We'd expect the total variation minimization (TVM) to be slightly better than Gaussian filtering at most noise levels, but we do not see this.  We'd also expect the non-local means (NLM) filtering to outperform Gaussian filtering at all noise levels, and again we do not see this.  This is because we did all filtering using default parameters for the TVM and NLM filtering algorithms.  Why do the default parameters not produce expected results?"
   ]
  },
  {
   "cell_type": "markdown",
   "id": "654cbd03-7e9c-413b-aa27-7970c52d7d24",
   "metadata": {},
   "source": [
    "### Type your answer here in this block:\n",
    "\n"
   ]
  },
  {
   "cell_type": "markdown",
   "id": "78d21cce-2a2a-400b-a3df-9306e63f4446",
   "metadata": {},
   "source": [
    "# Step 5: Improving the Results\n",
    "\n",
    "## Instructions:\n",
    "\n",
    "- Investigate the documentation for the denoise_tv_bregman() and denoise_nl_means() functions.   \n",
    "- Determine more optimal parameters for these algorithms that will improve results across all noise levels.  You may make the values of parameters dependent on the known noise level of a given image (i.e. a parameter may be a function of the noise level).\n",
    "- Hint: you can likely copy your code from Steps 2 and 3 and then add parameters to the denoising algoirthms.  \n",
    "- The output of this step should have the same form as Step 3, but the bar heights will be different.\n",
    "\n",
    "By adjusting the algorithm parameters judiciously, it should be possible to get TVM to at least very slightly outperform Gaussian filtering at all noise levels, and it should be possible to get NLM to greatly outperform both Gaussian filtering and TVM at low noise levels, and perform at least as well at high noise levels.\n",
    "\n",
    "This step will be assessed based on how closely you match or exceed the expected results described above (see rubric on Canvas)."
   ]
  },
  {
   "cell_type": "code",
   "id": "dd5f14a9-355b-47bd-82f6-03abed6ed6f2",
   "metadata": {},
   "source": [
    "# Write the code for this step here\n"
   ],
   "outputs": [],
   "execution_count": null
  }
 ],
 "metadata": {
  "kernelspec": {
   "display_name": "Python 3 (ipykernel)",
   "language": "python",
   "name": "python3"
  },
  "language_info": {
   "codemirror_mode": {
    "name": "ipython",
    "version": 3
   },
   "file_extension": ".py",
   "mimetype": "text/x-python",
   "name": "python",
   "nbconvert_exporter": "python",
   "pygments_lexer": "ipython3",
   "version": "3.9.16"
  }
 },
 "nbformat": 4,
 "nbformat_minor": 5
}
