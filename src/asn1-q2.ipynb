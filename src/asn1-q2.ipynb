{
 "cells": [
  {
   "cell_type": "markdown",
   "metadata": {},
   "source": [
    "# Question 2\n",
    "\n",
    "In this question we will:\n",
    "- Implement the vector median filter for colour images.\n",
    "- Apply the vector median filter to a small dataset and establish a baseline performance meteric.\n",
    "- Try to design a denoising pipeline that outperforms using only the vector median filter.   "
   ]
  },
  {
   "metadata": {
    "ExecuteTime": {
     "end_time": "2024-10-04T02:11:35.451389Z",
     "start_time": "2024-10-04T02:11:35.440722Z"
    }
   },
   "cell_type": "code",
   "source": [
    "# Boilerplate imports\n",
    "import skimage.io as skio\n",
    "import skimage.color as skcolor\n",
    "import skimage.util as skutil\n",
    "import skimage.restoration as skrest\n",
    "import skimage.filters as skfilt\n",
    "import skimage.metrics as skmetrics\n",
    "import os\n",
    "import numpy as np\n",
    "import matplotlib.pyplot as plt\n",
    "import pandas as pd\n",
    "%matplotlib inline\n",
    "\n",
    "np.random.seed(0)"
   ],
   "outputs": [],
   "execution_count": 21
  },
  {
   "metadata": {},
   "cell_type": "markdown",
   "source": [
    "# Step 1: Implement the vector median filter for colour images.\n",
    "\n",
    "## Instructions\n",
    "\n",
    "- Write a function that implements the vector median filter.  Details on the vector median filter can be found in Topic 4 of the lecture notes and implementation suggestions can be found in Section 2 of the asignment PDF.  \n",
    "- The parameters to your function should be the input image `I`, and the `radius` of the square neighbourhood, e.g. radius 1 = 3x3 filter, radius 2 = 5x5 filter, etc.\n",
    "- Your function should accept images of dtype `uint8` or `float64` (other types may be rejected if you wish).    It is easiest if you work with the image as data type `float64`.   If the input image is of type `uint8`, it is suggested that you convert it to dtype `float64`, construct the output image also as type `float64` and then convert it back to `uint8` before returning it.  In any case, the output image returned should be the same dtype as the input image."
   ]
  },
  {
   "cell_type": "code",
   "metadata": {
    "collapsed": true,
    "jupyter": {
     "outputs_hidden": true
    },
    "ExecuteTime": {
     "end_time": "2024-10-04T02:11:35.524887Z",
     "start_time": "2024-10-04T02:11:35.517746Z"
    }
   },
   "source": [
    "def vector_median(I, radius):\n",
    "    # Type Check\n",
    "    if I.dtype not in [np.uint8, np.float64]:\n",
    "        raise ValueError(\"Image type not supported. Must be uint8 or float64\")\n",
    "\n",
    "    # Valid radius\n",
    "    if radius < 1:\n",
    "        raise ValueError(\"Radius must be greater than or equal to 1\")\n",
    "\n",
    "    # If uint8, convert to float64\n",
    "    is_uint8 = I.dtype == np.uint8\n",
    "    if is_uint8:\n",
    "        I = skutil.img_as_float(I)\n",
    "\n",
    "    # Get dimensions\n",
    "    height, width, channels = I.shape\n",
    "    output = np.zeros_like(I)  # Stores the output image\n",
    "\n",
    "    # Add padding to the image to help with the borders\n",
    "    I_padded = np.pad(\n",
    "        I,  # Image to pad\n",
    "        (\n",
    "            (radius, radius),  # Pad top and bottom \n",
    "            (radius, radius), # Pad left and right\n",
    "            (0, 0)  # Pad channels\n",
    "        ),\n",
    "        mode='edge'  # Pad with the nearest pixel\n",
    "    )\n",
    "    \n",
    "    # Iterate in raster order\n",
    "    for y in range(height):\n",
    "        for x in range(width):\n",
    "            # Adjust x, y to start on the image and not the padding\n",
    "            x_pad = x + radius\n",
    "            y_pad = y + radius\n",
    "\n",
    "            # Get the neighbourhood\n",
    "            neighbourhood = I_padded[\n",
    "                                y_pad - radius:y_pad + radius + 1,  # Add 1 bc slicing is exclusive\n",
    "                                x_pad - radius:x_pad + radius + 1, \n",
    "                                :   # All color channels\n",
    "                            ]\n",
    "\n",
    "            # Median for each channel\n",
    "            median = np.median(neighbourhood, axis=(0, 1))\n",
    "\n",
    "            # Find the closest pixel to the median using Manhattan distance\n",
    "            distances = np.sum(np.abs(neighbourhood - median), axis=2)\n",
    "            \n",
    "            # This is where I struggled the most lol\n",
    "            # Turns out, np.argmin returns the index of the flattened array, so I needed a way to get the x, y coordinates back\n",
    "            min_index = np.unravel_index(  # Unravel the index to get the x, y coordinates (returns a tuple)\n",
    "                np.argmin(distances),  # Find the index that points to the minimum distance\n",
    "                distances.shape \n",
    "            )\n",
    "            \n",
    "            closest_pixel = neighbourhood[min_index]\n",
    "\n",
    "            # Assign the closest pixel to the output\n",
    "            output[y, x, :] = closest_pixel\n",
    "\n",
    "    if is_uint8:  # Parse back to uint8 if needed\n",
    "        return skutil.img_as_ubyte(output)\n",
    "    else:\n",
    "        return output"
   ],
   "outputs": [],
   "execution_count": 22
  },
  {
   "cell_type": "markdown",
   "metadata": {},
   "source": [
    "# Step 2a: Establish a Baseline\n",
    "\n",
    "## Instructions\n",
    "\n",
    "- Determine the PSNR and SSIM of all of the noisy images by comparing them to their noiseless versions -- store these in a list.  \n",
    "    - Use the same method to read the images files as in question 1, but read them from the `images/noisy` directory and the `images/noiseless` directory as needed.\n",
    "- Filter each noisy image with a 3x3 vector median filter and compute the PSNR and SSIM of all of the filtered noisy images (by comparing them to the noiseless images) -- store these in a list.   \n",
    "    - As with question 1, to save time we recommend you develop and debug your programs using only the first three to five images in file_list, and run it on the complete list when you're done. \n",
    "- The noiseless images are provided so you can compute PSNR and SSIM.  See functions `skmetrics.peak_signal_noise_ratio()` and `skmetrics.structural_similarity()`.  You'll need the `channel_axis=2` argument for `structural_similarity()`.  This indicates to the function that the it is the 3rd dimension of the 3D arrays that index the R, G and B channels.\n",
    "\n",
    "_Hint: This step requires doing a few seemingly different things, but it's actually easier to do them all at once in the same loop._\n",
    "\n"
   ]
  },
  {
   "metadata": {
    "ExecuteTime": {
     "end_time": "2024-10-04T02:11:35.540930Z",
     "start_time": "2024-10-04T02:11:35.526885Z"
    }
   },
   "cell_type": "code",
   "source": [
    "psnr = {'noisy': [], 'filtered': []}\n",
    "ssim = {'noisy': [], 'filtered': []}"
   ],
   "outputs": [],
   "execution_count": 23
  },
  {
   "metadata": {
    "ExecuteTime": {
     "end_time": "2024-10-04T02:11:35.562496Z",
     "start_time": "2024-10-04T02:11:35.543893Z"
    }
   },
   "cell_type": "code",
   "source": [
    "file_list = pd.read_csv('data/images.csv', header=None)\n",
    "file_list = file_list[0].tolist()"
   ],
   "outputs": [],
   "execution_count": 24
  },
  {
   "metadata": {
    "ExecuteTime": {
     "end_time": "2024-10-04T02:11:35.569021Z",
     "start_time": "2024-10-04T02:11:35.564472Z"
    }
   },
   "cell_type": "code",
   "source": [
    "noiseless_dir = 'data/images/noiseless'\n",
    "noisy_dir = 'data/images/noisy'"
   ],
   "outputs": [],
   "execution_count": 25
  },
  {
   "cell_type": "code",
   "metadata": {
    "tags": [],
    "ExecuteTime": {
     "end_time": "2024-10-04T02:43:20.336591Z",
     "start_time": "2024-10-04T02:11:35.570013Z"
    }
   },
   "source": [
    "for filename in file_list:\n",
    "    noiseless_path = os.path.join(noiseless_dir, filename)\n",
    "    noisy_path = os.path.join(noisy_dir, filename)\n",
    "    \n",
    "    # Read the images\n",
    "    noiseless = skio.imread(noiseless_path)\n",
    "    noiseless = skutil.img_as_float(noiseless)\n",
    "    \n",
    "    noisy = skio.imread(noisy_path)\n",
    "    noisy = skutil.img_as_float(noisy)\n",
    "    \n",
    "    # PSNR and SSIM for the noisy/noiseless image\n",
    "    psnr_noisy = skmetrics.peak_signal_noise_ratio(noiseless, noisy)\n",
    "    ssim_noisy = skmetrics.structural_similarity(noiseless, noisy, data_range=1, channel_axis=2)\n",
    "    \n",
    "    # Filter the noisy image\n",
    "    filtered = vector_median(noisy, 1)\n",
    "    \n",
    "    # PSNR and SSIM for the filtered/noiseless image\n",
    "    psnr_filtered = skmetrics.peak_signal_noise_ratio(noiseless, filtered)\n",
    "    ssim_filtered = skmetrics.structural_similarity(noiseless, filtered, data_range=1, channel_axis=2)\n",
    "    \n",
    "    psnr['noisy'].append(psnr_noisy)\n",
    "    psnr['filtered'].append(psnr_filtered)\n",
    "    ssim['noisy'].append(ssim_noisy)\n",
    "    ssim['filtered'].append(ssim_filtered)"
   ],
   "outputs": [],
   "execution_count": 26
  },
  {
   "cell_type": "markdown",
   "metadata": {},
   "source": [
    "# Step 2b: Compute average baseline metrics.\n",
    "\n",
    "## Instructions\n",
    "\n",
    "Compute the average PSNR and SSIM for the unfiltered noisy images (take the PSNR and SSIM measures for each image and average them).  Do the same for the median-filtered noisy images.  Plot a bar graph showing the two mean PSNR values and another showing the two mean SSIM values before and after filtering (see assignment description for sample output)."
   ]
  },
  {
   "metadata": {},
   "cell_type": "markdown",
   "source": "The PSNR and SSIM of the noisy images was computed on the cell above due to simplicity."
  },
  {
   "metadata": {
    "ExecuteTime": {
     "end_time": "2024-10-04T02:43:20.363797Z",
     "start_time": "2024-10-04T02:43:20.345583Z"
    }
   },
   "cell_type": "code",
   "source": [
    "# Average PSNR and SSIM for the noisy and filtered images\n",
    "psnr_noisy_mean = np.mean(psnr['noisy'])\n",
    "psnr_filtered_mean = np.mean(psnr['filtered'])\n",
    "\n",
    "ssim_noisy_mean = np.mean(ssim['noisy'])\n",
    "ssim_filtered_mean = np.mean(ssim['filtered'])"
   ],
   "outputs": [],
   "execution_count": 27
  },
  {
   "cell_type": "code",
   "metadata": {
    "tags": [],
    "ExecuteTime": {
     "end_time": "2024-10-04T02:43:21.538041Z",
     "start_time": "2024-10-04T02:43:20.372793Z"
    }
   },
   "source": [
    "_, axes = plt.subplots(1, 2, figsize=(10, 5))\n",
    "# PSNR\n",
    "axes[0].bar(['Noisy', 'Median'], [psnr_noisy_mean, psnr_filtered_mean])\n",
    "axes[0].set_title(\"Average PSNR\")\n",
    "axes[0].set_ylabel(\"PSNR\")\n",
    "\n",
    "# SSIM\n",
    "axes[1].bar(['Noisy', 'Median'], [ssim_noisy_mean, ssim_filtered_mean])\n",
    "axes[1].set_title(\"Average SSIM\")\n",
    "axes[1].set_ylabel(\"SSIM\")\n",
    "axes[1].set_ylim(0, 1)\n",
    "plt.show()"
   ],
   "outputs": [
    {
     "data": {
      "text/plain": [
       "<Figure size 1000x500 with 2 Axes>"
      ],
      "image/png": "[encoded data removed]"
     },
     "metadata": {},
     "output_type": "display_data"
    }
   ],
   "execution_count": 28
  },
  {
   "cell_type": "markdown",
   "metadata": {},
   "source": [
    "# Step 3:  See if you can do better!\n",
    "\n",
    "Find a better way to denoise the images.  Compute the mean PSNR and SSIM for your denoising method.   Replot the graphs in the previous step with the new results added.\n",
    "\n",
    "_You can use any functions in the python libraries to help you (numpy, scipy, skimage, etc.) but you cannot bring in code from external sources._\n"
   ]
  },
  {
   "metadata": {},
   "cell_type": "markdown",
   "source": "There's a lot of __salt and pepper__ noise in the images. I'll try to remove it using a median filter and then apply a gaussian filter to smooth the image."
  },
  {
   "cell_type": "code",
   "metadata": {
    "ExecuteTime": {
     "end_time": "2024-10-04T02:43:21.545185Z",
     "start_time": "2024-10-04T02:43:21.539038Z"
    }
   },
   "source": [
    "def denoise_custom(I):\n",
    "    # Type Check\n",
    "    if I.dtype not in [np.uint8, np.float64]:\n",
    "        raise ValueError(\"Image type not supported. Must be uint8 or float64\")\n",
    "\n",
    "    # If uint8, convert to float64\n",
    "    is_uint8 = I.dtype == np.uint8\n",
    "    if is_uint8:\n",
    "        I = skutil.img_as_float(I)\n",
    "\n",
    "    # Apply median filter\n",
    "    denoised = skfilt.median(\n",
    "        I, \n",
    "        footprint=np.ones((3, 3, 1))  # 3x3 filter\n",
    "    )\n",
    "    \n",
    "    # Apply gaussian filter\n",
    "    denoised = skfilt.gaussian(denoised, sigma=1, channel_axis=2)\n",
    "\n",
    "    if is_uint8:  # Convert back to uint8 if necessary\n",
    "        return skutil.img_as_ubyte(denoised)\n",
    "    else:\n",
    "        return denoised"
   ],
   "outputs": [],
   "execution_count": 29
  },
  {
   "metadata": {
    "ExecuteTime": {
     "end_time": "2024-10-04T02:43:21.561180Z",
     "start_time": "2024-10-04T02:43:21.546183Z"
    }
   },
   "cell_type": "code",
   "source": [
    "psnr_custom = []\n",
    "ssim_custom = []"
   ],
   "outputs": [],
   "execution_count": 30
  },
  {
   "metadata": {
    "ExecuteTime": {
     "end_time": "2024-10-04T02:43:53.097586Z",
     "start_time": "2024-10-04T02:43:21.565535Z"
    }
   },
   "cell_type": "code",
   "source": [
    "for filename in file_list:\n",
    "    noiseless_path = os.path.join(noiseless_dir, filename)\n",
    "    noisy_path = os.path.join(noisy_dir, filename)\n",
    "    \n",
    "    # Read the images\n",
    "    noiseless = skio.imread(noiseless_path)\n",
    "    noiseless = skutil.img_as_float(noiseless)\n",
    "    \n",
    "    noisy = skio.imread(noisy_path)\n",
    "    noisy = skutil.img_as_float(noisy)\n",
    "    \n",
    "    # Filter the noisy image\n",
    "    filtered = denoise_custom(noisy)\n",
    "    \n",
    "    # Compute PSNR and SSIM for the filtered image\n",
    "    psnr_filtered = skmetrics.peak_signal_noise_ratio(noiseless, filtered)\n",
    "    ssim_filtered = skmetrics.structural_similarity(noiseless, filtered, data_range=1, channel_axis=2)\n",
    "    \n",
    "    # Store the results\n",
    "    psnr_custom.append(psnr_filtered)\n",
    "    ssim_custom.append(ssim_filtered)"
   ],
   "outputs": [],
   "execution_count": 31
  },
  {
   "metadata": {
    "ExecuteTime": {
     "end_time": "2024-10-04T02:43:53.103741Z",
     "start_time": "2024-10-04T02:43:53.098584Z"
    }
   },
   "cell_type": "code",
   "source": [
    "psnr_custom_mean = np.mean(psnr_custom)\n",
    "ssim_custom_mean = np.mean(ssim_custom)"
   ],
   "outputs": [],
   "execution_count": 32
  },
  {
   "metadata": {
    "ExecuteTime": {
     "end_time": "2024-10-04T02:43:53.307639Z",
     "start_time": "2024-10-04T02:43:53.104748Z"
    }
   },
   "cell_type": "code",
   "source": [
    "_, axes = plt.subplots(1, 2, figsize=(10, 5))\n",
    "\n",
    "# PSNR\n",
    "axes[0].bar(['Noisy', 'Median', 'Custom'], [psnr_noisy_mean, psnr_filtered_mean, psnr_custom_mean])\n",
    "axes[0].set_title(\"Average PSNR\")\n",
    "axes[0].set_ylabel(\"PSNR\")\n",
    "    \n",
    "# SSIM\n",
    "axes[1].bar(['Noisy', 'Median', 'Custom'], [ssim_noisy_mean, ssim_filtered_mean, ssim_custom_mean])\n",
    "axes[1].set_title(\"Average SSIM\")\n",
    "axes[1].set_ylabel(\"SSIM\")\n",
    "axes[1].set_ylim(0, 1)\n",
    "plt.show()"
   ],
   "outputs": [
    {
     "data": {
      "text/plain": [
       "<Figure size 1000x500 with 2 Axes>"
      ],
      "image/png": "[encoded data removed]"
     },
     "metadata": {},
     "output_type": "display_data"
    }
   ],
   "execution_count": 33
  }
 ],
 "metadata": {
  "kernelspec": {
   "display_name": "Python 3 (ipykernel)",
   "language": "python",
   "name": "python3"
  },
  "language_info": {
   "codemirror_mode": {
    "name": "ipython",
    "version": 3
   },
   "file_extension": ".py",
   "mimetype": "text/x-python",
   "name": "python",
   "nbconvert_exporter": "python",
   "pygments_lexer": "ipython3",
   "version": "3.9.16"
  },
  "pycharm": {
   "stem_cell": {
    "cell_type": "raw",
    "metadata": {
     "collapsed": false
    },
    "source": []
   }
  }
 },
 "nbformat": 4,
 "nbformat_minor": 4
}
